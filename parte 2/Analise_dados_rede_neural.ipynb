{
 "cells": [
  {
   "cell_type": "markdown",
   "metadata": {
    "id": "7XiVkPErwupC"
   },
   "source": [
    "# Importanto bibliotecas para o trabalho."
   ]
  },
  {
   "cell_type": "code",
   "execution_count": null,
   "metadata": {
    "executionInfo": {
     "elapsed": 2529,
     "status": "ok",
     "timestamp": 1723057321408,
     "user": {
      "displayName": "Francisco Gabriel",
      "userId": "01096869112082808589"
     },
     "user_tz": 180
    },
    "id": "_GgFFN8dwsK_",
    "scrolled": true
   },
   "outputs": [],
   "source": [
    "import pandas as pd\n",
    "import numpy as np\n",
    "import matplotlib.pyplot as plt\n",
    "import seaborn as sns\n",
    "from sklearn.model_selection import train_test_split\n",
    "from sklearn.preprocessing import StandardScaler\n",
    "from tensorflow.keras.models import Sequential\n",
    "from tensorflow.keras.layers import Dense\n",
    "from tensorflow.keras.optimizers import Adam"
   ]
  },
  {
   "cell_type": "markdown",
   "metadata": {
    "id": "vD9nOtJpxIlt"
   },
   "source": [
    "## Adicionando dados para manipulação"
   ]
  },
  {
   "cell_type": "markdown",
   "metadata": {
    "id": "6gP2X6G0zfUb"
   },
   "source": [
    "A base de dados que vamos utilizar estara disponivel em: [link para base de dados](https://www.kaggle.com/datasets/spscientist/students-performance-in-exams/data)"
   ]
  },
  {
   "cell_type": "code",
   "execution_count": null,
   "metadata": {
    "executionInfo": {
     "elapsed": 324,
     "status": "ok",
     "timestamp": 1723057323124,
     "user": {
      "displayName": "Francisco Gabriel",
      "userId": "01096869112082808589"
     },
     "user_tz": 180
    },
    "id": "DZvzKiB6xNyI"
   },
   "outputs": [],
   "source": [
    "df = pd.read_csv('dados/performaceEstudantes.csv')"
   ]
  },
  {
   "cell_type": "markdown",
   "metadata": {
    "id": "I2AZ3PoFyarc"
   },
   "source": [
    "Mostrando informações basicas do frame."
   ]
  },
  {
   "cell_type": "code",
   "execution_count": null,
   "metadata": {
    "colab": {
     "base_uri": "https://localhost:8080/",
     "height": 500
    },
    "executionInfo": {
     "elapsed": 357,
     "status": "ok",
     "timestamp": 1723057325160,
     "user": {
      "displayName": "Francisco Gabriel",
      "userId": "01096869112082808589"
     },
     "user_tz": 180
    },
    "id": "hjnRsUVUya09",
    "outputId": "495a36bb-b0bf-4c17-83e0-2ca1387e3c38"
   },
   "outputs": [],
   "source": [
    "df.info() # utilizado para ver as informações do dataframe.\n",
    "print(\"\\n\\n\")\n",
    "df['gender'].value_counts() # conta de forma agrupada"
   ]
  },
  {
   "cell_type": "markdown",
   "metadata": {
    "id": "ZWaQd3Q_4ANk"
   },
   "source": [
    "# Analise dos dados"
   ]
  },
  {
   "cell_type": "markdown",
   "metadata": {
    "id": "vNsB17R64J77"
   },
   "source": [
    "vamos fazer a media das notas da provas de matematica, leitura e escrita.\n",
    "Logo em seguida vamos remover as tabelas das notas separadas, para futuramente usar para a rede neural."
   ]
  },
  {
   "cell_type": "code",
   "execution_count": null,
   "metadata": {
    "executionInfo": {
     "elapsed": 484,
     "status": "ok",
     "timestamp": 1723057329274,
     "user": {
      "displayName": "Francisco Gabriel",
      "userId": "01096869112082808589"
     },
     "user_tz": 180
    },
    "id": "4tvXxmQ64RmW"
   },
   "outputs": [],
   "source": [
    "df['media'] = df[['math score', 'reading score', 'writing score']].mean(axis=1)"
   ]
  },
  {
   "cell_type": "code",
   "execution_count": null,
   "metadata": {
    "colab": {
     "base_uri": "https://localhost:8080/"
    },
    "executionInfo": {
     "elapsed": 446,
     "status": "ok",
     "timestamp": 1723057331043,
     "user": {
      "displayName": "Francisco Gabriel",
      "userId": "01096869112082808589"
     },
     "user_tz": 180
    },
    "id": "fifUy9_jEuMm",
    "outputId": "4aed7e36-06e6-4f2d-d875-48425dc82a12"
   },
   "outputs": [],
   "source": [
    "df.drop('reading score', axis=1, inplace=True)\n",
    "df.drop('writing score', axis=1, inplace=True)\n",
    "df.drop('math score', axis=1, inplace=True)\n",
    "\n",
    "df.info()"
   ]
  },
  {
   "cell_type": "markdown",
   "metadata": {
    "id": "uaZWXfJ9GxGP"
   },
   "source": [
    "Agora que o banco de dados esta de acordo vamos fazer a moda, media, mediana, variação, desvio padrao, minimo e maximo."
   ]
  },
  {
   "cell_type": "code",
   "execution_count": null,
   "metadata": {
    "colab": {
     "base_uri": "https://localhost:8080/",
     "height": 698
    },
    "executionInfo": {
     "elapsed": 979,
     "status": "ok",
     "timestamp": 1723057669973,
     "user": {
      "displayName": "Francisco Gabriel",
      "userId": "01096869112082808589"
     },
     "user_tz": 180
    },
    "id": "u919NZlzHnKa",
    "outputId": "8fad334a-cad3-4e7d-d268-1e8ddee5d5fa"
   },
   "outputs": [],
   "source": [
    "# A COLUNA QUE VAMOS UTILIZAR É MEDIA\n",
    "column = 'media'\n",
    "\n",
    "moda = df[column].mode().values[0]  # Retorna um array, então pegamos o primeiro valor # Calcular a moda\n",
    "\n",
    "media = df[column].mean()# Calcular a média\n",
    "\n",
    "mediana = df[column].median()# Calcular a mediana\n",
    "\n",
    "variacao = df[column].var()# Calcular a variação\n",
    "\n",
    "desvio_padrao = df[column].std()# Calcular o desvio padrão\n",
    "\n",
    "minimo = df[column].min()# Calcular o mínimo\n",
    "\n",
    "maximo = df[column].max()# Calcular o máximo\n",
    "\n",
    "print(f'Moda: {moda}\\n')\n",
    "print(f'Média: {media}\\n')\n",
    "print(f'Mediana: {mediana}\\n')\n",
    "print(f'Variação: {variacao}\\n')\n",
    "print(f'Desvio Padrão: {desvio_padrao}\\n')\n",
    "print(f'Mínimo: {minimo}\\n')\n",
    "print(f'Máximo: {maximo}\\n')\n"
   ]
  },
  {
   "cell_type": "markdown",
   "metadata": {},
   "source": [
    "### aqui vamos fazer a distribuição das notas de pessoas"
   ]
  },
  {
   "cell_type": "code",
   "execution_count": null,
   "metadata": {},
   "outputs": [],
   "source": [
    "\n",
    "sns.set(style=\"whitegrid\")\n",
    "plt.figure(figsize=(10, 6))\n",
    "sns.histplot(df['media'], bins=15, kde=True, color='blue', edgecolor='black')\n",
    "\n",
    "# Adicionar títulos e rótulos\n",
    "plt.title('Distribuição das Notas dos Alunos')\n",
    "plt.xlabel('Nota')\n",
    "plt.ylabel('Número de Pessoas')\n",
    "\n",
    "# Mostrar o gráfico\n",
    "plt.show()"
   ]
  },
  {
   "cell_type": "markdown",
   "metadata": {
    "id": "Uh1in39CPyc8"
   },
   "source": [
    "### Media da nota pelo nivel de graduação dos pais."
   ]
  },
  {
   "cell_type": "code",
   "execution_count": null,
   "metadata": {
    "colab": {
     "base_uri": "https://localhost:8080/",
     "height": 662
    },
    "executionInfo": {
     "elapsed": 1067,
     "status": "ok",
     "timestamp": 1723059015205,
     "user": {
      "displayName": "Francisco Gabriel",
      "userId": "01096869112082808589"
     },
     "user_tz": 180
    },
    "id": "T6RbS9bpTlG6",
    "outputId": "aae079c9-6cf2-4031-820b-847aacf607be"
   },
   "outputs": [],
   "source": [
    "\n",
    "mean_scores = df.groupby('parental level of education')['media'].mean().sort_values()\n",
    "\n",
    "# Criar o gráfico de caixa (BARPLOT)\n",
    "plt.figure(figsize=(10, 6))\n",
    "sns.barplot(x=mean_scores.index, y=mean_scores.values, palette='viridis')\n",
    "\n",
    "# Adicionar títulos e rótulos\n",
    "plt.title('Média das Notas por Nível de Escolaridade dos pais')\n",
    "plt.xlabel('Nível de Escolaridade')\n",
    "plt.ylabel('Media das notas')\n",
    "\n",
    "# Exibir o gráfico\n",
    "plt.xticks(rotation=45)  # Rotacionar rótulos do eixo x para ver melhor\n",
    "plt.show()"
   ]
  },
  {
   "cell_type": "markdown",
   "metadata": {},
   "source": [
    "### Media das notas por grupo etnico"
   ]
  },
  {
   "cell_type": "code",
   "execution_count": null,
   "metadata": {},
   "outputs": [],
   "source": [
    "mean_scores = df.groupby('race/ethnicity')['media'].mean().sort_values()\n",
    "\n",
    "# Converter para DataFrame\n",
    "mean_scores_df = mean_scores.reset_index()\n",
    "mean_scores_df.columns = ['race/ethnicity', 'media']\n",
    "\n",
    "# Criar o gráfico de barras (Barplot)\n",
    "plt.figure(figsize=(10, 6))\n",
    "sns.barplot(data=mean_scores_df, x='race/ethnicity', y='media', palette='viridis')\n",
    "\n",
    "# Adicionar títulos e rótulos\n",
    "plt.title('Média das notas por etnia')\n",
    "plt.xlabel('Grupos')\n",
    "plt.ylabel('Média das notas')\n",
    "\n",
    "# Exibir o gráfico\n",
    "plt.xticks(rotation=45)  # Rotacionar rótulos do eixo x para melhor legibilidade\n",
    "plt.show()"
   ]
  },
  {
   "cell_type": "markdown",
   "metadata": {},
   "source": [
    "# Tratamento de dados para a rede Neural: "
   ]
  },
  {
   "cell_type": "markdown",
   "metadata": {},
   "source": [
    "Aqui, vamos converter os dados alfabéticos em numéricos."
   ]
  },
  {
   "cell_type": "code",
   "execution_count": null,
   "metadata": {},
   "outputs": [],
   "source": [
    "df['gender'] = df['gender'].replace({'female': 0, 'male': 1})\n",
    "\n",
    "df['race/ethnicity'] = df['race/ethnicity'].replace({ 'group A' : 1,'group B' : 2,'group C': 3,'group D' : 4,'group E' : 5})\n",
    "\n",
    "df['parental level of education'] = df['parental level of education'].replace({'high school' : 1, 'some high school' : 2, 'some college' : 3 , \"associate's degree\" : 4, \"bachelor's degree\": 5, \"master's degree\" : 6})\n",
    "\n",
    "df['lunch'] = df['lunch'].replace({'standard': 1, 'free/reduced':0})\n",
    "df['test preparation course'] = df['test preparation course'].replace({'none': 0, 'completed':1})"
   ]
  },
  {
   "cell_type": "markdown",
   "metadata": {},
   "source": [
    "### Agora vamos fazer a construção e treinamento da rede neural."
   ]
  },
  {
   "cell_type": "code",
   "execution_count": null,
   "metadata": {},
   "outputs": [],
   "source": [
    "###   df.info()\n",
    "X = df.drop('media', axis=1) #coluna que sera o nosso ponto de chegada\n",
    "y = df['media']\n",
    "\n",
    "# Divisão dos dados em treino e teste\n",
    "X_train, X_test, y_train, y_test = train_test_split(X, y, test_size=0.3, random_state=42)\n",
    "\n",
    "# Normalização dos dados\n",
    "scaler = StandardScaler()\n",
    "X_train = scaler.fit_transform(X_train)\n",
    "X_test = scaler.transform(X_test)\n",
    "\n",
    "# Construção do modelo\n",
    "model = Sequential([\n",
    "    Dense(128, activation='relu', input_shape=(X_train.shape[1],)),\n",
    "    Dense(64, activation='relu'),\n",
    "    Dense(32, activation='relu'),\n",
    "    Dense(1)  # Sem função de ativação na camada de saída para regressão\n",
    "])\n",
    "\n",
    "# Compilação do modelo com função de perda apropriada\n",
    "optimizer = Adam(learning_rate=0.001)\n",
    "model.compile(optimizer=optimizer, loss='mean_squared_error', metrics=['mean_absolute_error'])\n",
    "\n",
    "# Treinamento do modelo\n",
    "history = model.fit(X_train, y_train, epochs=100, validation_split=0.2)\n",
    "\n",
    "# Avaliação do modelo\n",
    "loss, mae = model.evaluate(X_test, y_test)\n",
    "print(f'Mean Absolute Error: {mae}')"
   ]
  },
  {
   "cell_type": "markdown",
   "metadata": {},
   "source": [
    "## Exemplo e utilização"
   ]
  },
  {
   "cell_type": "code",
   "execution_count": null,
   "metadata": {},
   "outputs": [],
   "source": [
    "# Vamos supor que a pessoa seja: \n",
    "# Male: 1 | Group B: 2 | bachelor's degree: 4 | free/reduced: 0 | completed: 1\n",
    "# Observando sempre a ordem correta dos dados\n",
    "\n",
    "# Usaremos as colunas(que contem o nume de cada propriedade) de X pois ela ja esta sem a media\n",
    "dados = {\n",
    "    'gender': [1],\n",
    "    'race/ethnicity': [2],\n",
    "    'parental level of education': [4],\n",
    "    'lunch': [0],\n",
    "    'test preparation course': [1]\n",
    "}\n",
    "\n",
    "# Novo dado de entrada como DataFrame\n",
    "novo_dado_df = pd.DataFrame(dados)\n",
    "\n",
    "# Normalizar o novo dado usando o mesmo scaler que foi ajustado nos dados de treinamento\n",
    "nnovo_dado_df = pd.DataFrame(dados, columns=X.columns)\n",
    "\n",
    "# Fazer a previsão usando o modelo treinado\n",
    "previsao = model.predict(novo_dado_normalizado)\n",
    "\n",
    "print(f'Previsão da média: {previsao[0][0]}\\nCom uma taxa de erro de 10 pontos para cima ou para baixo')"
   ]
  },
  {
   "cell_type": "code",
   "execution_count": null,
   "metadata": {},
   "outputs": [],
   "source": []
  }
 ],
 "metadata": {
  "colab": {
   "authorship_tag": "ABX9TyNS/lwAB+XrVlS5oBR00epy",
   "provenance": []
  },
  "kernelspec": {
   "display_name": "Python 3 (ipykernel)",
   "language": "python",
   "name": "python3"
  },
  "language_info": {
   "codemirror_mode": {
    "name": "ipython",
    "version": 3
   },
   "file_extension": ".py",
   "mimetype": "text/x-python",
   "name": "python",
   "nbconvert_exporter": "python",
   "pygments_lexer": "ipython3",
   "version": "3.8.19"
  }
 },
 "nbformat": 4,
 "nbformat_minor": 4
}
